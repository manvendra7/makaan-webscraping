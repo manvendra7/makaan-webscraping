{
  "nbformat": 4,
  "nbformat_minor": 0,
  "metadata": {
    "colab": {
      "name": "Makkan.com-WebScraping.ipynb",
      "provenance": [],
      "authorship_tag": "ABX9TyP0DG8e1EyTyy4sda/lP/jF",
      "include_colab_link": true
    },
    "kernelspec": {
      "name": "python3",
      "display_name": "Python 3"
    },
    "language_info": {
      "name": "python"
    }
  },
  "cells": [
    {
      "cell_type": "markdown",
      "metadata": {
        "id": "view-in-github",
        "colab_type": "text"
      },
      "source": [
        "<a href=\"https://colab.research.google.com/github/manvendra7/makaan-webscraping/blob/main/Makkan_com_WebScraping.ipynb\" target=\"_parent\"><img src=\"https://colab.research.google.com/assets/colab-badge.svg\" alt=\"Open In Colab\"/></a>"
      ]
    },
    {
      "cell_type": "code",
      "metadata": {
        "id": "x4Lf9YIgW3m9"
      },
      "source": [
        "#import all the packages\n",
        "\n",
        "import requests\n",
        "from bs4 import BeautifulSoup\n",
        "import pandas as pd\n",
        "import time\n",
        "from IPython.display import clear_output"
      ],
      "execution_count": 1,
      "outputs": []
    },
    {
      "cell_type": "code",
      "metadata": {
        "colab": {
          "base_uri": "https://localhost:8080/"
        },
        "id": "aC7abKR9XOfG",
        "outputId": "a98e4f44-6855-4db8-af76-4cb4272bb897"
      },
      "source": [
        "base_url = 'https://www.makaan.com/hyderabad-residential-property/buy-property-in-hyderabad-city?page='\n",
        "\n",
        "ow = []   # owner info\n",
        "bhk = []  # number of bhk\n",
        "p = []\n",
        "s = []\n",
        "loc = []\n",
        "st = []\n",
        "pps = []\n",
        "\n",
        "for i in range(1,11):\n",
        "  time.sleep(3)\n",
        "\n",
        "  print(f'Going to scrape data from {i} page')\n",
        "  clear_output(wait=True)\n",
        "  url = base_url+str(i)\n",
        "  req = requests.get(url)\n",
        "  soup = BeautifulSoup(req.text,'html')\n",
        "\n",
        "  #owner info\n",
        "  ow_info = soup.findAll('span',attrs={'class':'seller-type'})\n",
        "  for j in ow_info:\n",
        "    ow.append(j.text)\n",
        "  \n",
        "  #bhk info\n",
        "  bhk_info = soup.findAll('div',attrs={'class':'title-line'})\n",
        "  for j in bhk_info:\n",
        "    bhk.append(j.strong.span.text)\n",
        "\n",
        "  #price info\n",
        "  p_info = soup.findAll('div',attrs={'data-type':'price-link'})\n",
        "  for  j in p_info:\n",
        "    p.append(j.text)\n",
        "  \n",
        "  #size info\n",
        "  s_info = soup.findAll(\"td\",attrs={'class':'size'})\n",
        "  for j in s_info:\n",
        "    s.append(j.text)\n",
        "  \n",
        "  #location info\n",
        "  loc_info = soup.findAll('span',attrs={'itemprop':'addressLocality'})\n",
        "  for j in loc_info:\n",
        "    loc.append(j.text)\n",
        "  \n",
        "  #status info\n",
        "  st_info = soup.findAll('tr',attrs={'class':'hcol w44'})\n",
        "  for j in st_info:\n",
        "    st.append(j.text)\n",
        "\n",
        "  #price per sqft info\n",
        "  pps_info = soup.findAll('td',attrs={'class':'lbl rate'})\n",
        "  for j in pps_info:\n",
        "    pps.append(j.text)\n"
      ],
      "execution_count": 2,
      "outputs": [
        {
          "output_type": "stream",
          "text": [
            "Going to scrape data from 10 page\n"
          ],
          "name": "stdout"
        }
      ]
    },
    {
      "cell_type": "code",
      "metadata": {
        "id": "JVbWDFKvXtyJ"
      },
      "source": [
        "#converting to datafran\n",
        "data = pd.DataFrame({'Owner_inf' :ow ,\n",
        "              'Bhk_info' : bhk,\n",
        "              'Price' : p,\n",
        "              'Locality' : loc,\n",
        "              'Area_sqft' : s,\n",
        "              'Status' :st ,\n",
        "              'Price_Per_sqft' : pps})"
      ],
      "execution_count": 3,
      "outputs": []
    },
    {
      "cell_type": "code",
      "metadata": {
        "id": "vzlGmjbfXuyt"
      },
      "source": [
        "data.to_csv('webscraped_data.csv',index=False)  #saving the scraped data"
      ],
      "execution_count": 4,
      "outputs": []
    }
  ]
}